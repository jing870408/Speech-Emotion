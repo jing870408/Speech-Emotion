{
 "cells": [
  {
   "cell_type": "code",
   "execution_count": 1,
   "metadata": {},
   "outputs": [],
   "source": [
    "import numpy as np\n",
    "from sklearn.model_selection import train_test_split\n",
    "from sklearn import preprocessing\n",
    "import matplotlib.pyplot as plt"
   ]
  },
  {
   "cell_type": "code",
   "execution_count": 2,
   "metadata": {},
   "outputs": [
    {
     "name": "stderr",
     "output_type": "stream",
     "text": [
      "Using TensorFlow backend.\n"
     ]
    }
   ],
   "source": [
    "import keras\n",
    "from keras.layers import Dense, Dropout, Flatten,Conv1D, Conv2D, MaxPooling2D,Activation\n",
    "from keras.models import Sequential\n",
    "from keras.utils import to_categorical\n",
    "from keras.layers.normalization import BatchNormalization\n",
    "from keras.callbacks import ReduceLROnPlateau\n",
    "from keras.initializers import glorot_normal"
   ]
  },
  {
   "cell_type": "code",
   "execution_count": 3,
   "metadata": {},
   "outputs": [],
   "source": [
    "X = np.loadtxt('FinalX')\n",
    "X2 = X.reshape(1440,20,100,1)\n",
    "y = np.loadtxt('FinalY')"
   ]
  },
  {
   "cell_type": "code",
   "execution_count": 4,
   "metadata": {},
   "outputs": [],
   "source": [
    "train_test = train_test_split(X2, y, test_size= 0.34, random_state=42, shuffle=True)"
   ]
  },
  {
   "cell_type": "code",
   "execution_count": 5,
   "metadata": {},
   "outputs": [],
   "source": [
    "X_train, X_test, y_train, y_test = train_test\n",
    "X_train = X_train.reshape(X_train.shape[0], 20, 100, 1)\n",
    "X_test = X_test.reshape(X_test.shape[0], 20, 100, 1)\n",
    "y_train_hot = to_categorical(y_train)\n",
    "y_test_hot = to_categorical(y_test)"
   ]
  },
  {
   "cell_type": "code",
   "execution_count": 13,
   "metadata": {},
   "outputs": [],
   "source": [
    "model = Sequential()\n",
    "\n",
    "model.add(Conv2D(20,(5,5),kernel_initializer = 'glorot_normal',padding = 'same',input_shape = (20,100,1),activation = 'relu'))\n",
    "model.add(BatchNormalization())\n",
    "model.add(Conv2D(20,(5,5),kernel_initializer = 'glorot_normal',padding = 'same',activation = 'relu'))\n",
    "model.add(BatchNormalization())\n",
    "model.add(MaxPooling2D(pool_size=(2, 2),strides = (2, 2)))\n",
    "\n",
    "model.add(Conv2D(40,(5,5),kernel_initializer = 'glorot_normal',padding = 'same',activation = 'relu'))\n",
    "model.add(BatchNormalization())\n",
    "model.add(Conv2D(40,(5,5),kernel_initializer = 'glorot_normal',padding = 'same',activation = 'relu'))\n",
    "model.add(MaxPooling2D(pool_size=(2, 2),strides = (2, 2)))\n",
    "\n",
    "model.add(Conv2D(80,(5,5),kernel_initializer = 'glorot_normal',padding = 'same',activation = 'relu'))\n",
    "model.add(BatchNormalization())\n",
    "model.add(Conv2D(80,(5,5),kernel_initializer = 'glorot_normal',padding = 'same',activation = 'relu'))\n",
    "model.add(BatchNormalization())\n",
    "model.add(MaxPooling2D(pool_size=(2, 2),strides = (2, 2)))\n",
    "\n",
    "model.add(Flatten())\n",
    "model.add(Dense(3072,activation='relu'))\n",
    "model.add(BatchNormalization())\n",
    "model.add(Dense(8,activation='softmax'))"
   ]
  },
  {
   "cell_type": "code",
   "execution_count": 14,
   "metadata": {},
   "outputs": [],
   "source": [
    "reduce_lr = ReduceLROnPlateau(monitor='val_loss', factor=0.2,\n",
    "                              patience=3, min_lr=0.0001)\n",
    "model.compile(loss=keras.losses.categorical_crossentropy,\n",
    "              optimizer=keras.optimizers.Adadelta(),\n",
    "              metrics=['accuracy'])"
   ]
  },
  {
   "cell_type": "code",
   "execution_count": 15,
   "metadata": {},
   "outputs": [
    {
     "name": "stdout",
     "output_type": "stream",
     "text": [
      "_________________________________________________________________\n",
      "Layer (type)                 Output Shape              Param #   \n",
      "=================================================================\n",
      "conv2d_19 (Conv2D)           (None, 20, 100, 20)       520       \n",
      "_________________________________________________________________\n",
      "batch_normalization_21 (Batc (None, 20, 100, 20)       80        \n",
      "_________________________________________________________________\n",
      "conv2d_20 (Conv2D)           (None, 20, 100, 20)       10020     \n",
      "_________________________________________________________________\n",
      "batch_normalization_22 (Batc (None, 20, 100, 20)       80        \n",
      "_________________________________________________________________\n",
      "max_pooling2d_7 (MaxPooling2 (None, 10, 50, 20)        0         \n",
      "_________________________________________________________________\n",
      "conv2d_21 (Conv2D)           (None, 10, 50, 40)        20040     \n",
      "_________________________________________________________________\n",
      "batch_normalization_23 (Batc (None, 10, 50, 40)        160       \n",
      "_________________________________________________________________\n",
      "conv2d_22 (Conv2D)           (None, 10, 50, 40)        40040     \n",
      "_________________________________________________________________\n",
      "max_pooling2d_8 (MaxPooling2 (None, 5, 25, 40)         0         \n",
      "_________________________________________________________________\n",
      "conv2d_23 (Conv2D)           (None, 5, 25, 80)         80080     \n",
      "_________________________________________________________________\n",
      "batch_normalization_24 (Batc (None, 5, 25, 80)         320       \n",
      "_________________________________________________________________\n",
      "conv2d_24 (Conv2D)           (None, 5, 25, 80)         160080    \n",
      "_________________________________________________________________\n",
      "batch_normalization_25 (Batc (None, 5, 25, 80)         320       \n",
      "_________________________________________________________________\n",
      "max_pooling2d_9 (MaxPooling2 (None, 2, 12, 80)         0         \n",
      "_________________________________________________________________\n",
      "flatten_3 (Flatten)          (None, 1920)              0         \n",
      "_________________________________________________________________\n",
      "dense_5 (Dense)              (None, 3072)              5901312   \n",
      "_________________________________________________________________\n",
      "batch_normalization_26 (Batc (None, 3072)              12288     \n",
      "_________________________________________________________________\n",
      "dense_6 (Dense)              (None, 8)                 24584     \n",
      "=================================================================\n",
      "Total params: 6,249,924\n",
      "Trainable params: 6,243,300\n",
      "Non-trainable params: 6,624\n",
      "_________________________________________________________________\n"
     ]
    }
   ],
   "source": [
    "model.summary()"
   ]
  },
  {
   "cell_type": "code",
   "execution_count": 16,
   "metadata": {},
   "outputs": [
    {
     "name": "stdout",
     "output_type": "stream",
     "text": [
      "Train on 950 samples, validate on 490 samples\n",
      "Epoch 1/30\n",
      "950/950 [==============================] - 6s 7ms/step - loss: 5.1882 - acc: 0.1916 - val_loss: 9.0596 - val_acc: 0.1551\n",
      "Epoch 2/30\n",
      "950/950 [==============================] - 2s 2ms/step - loss: 3.9216 - acc: 0.3095 - val_loss: 10.0931 - val_acc: 0.2102\n",
      "Epoch 3/30\n",
      "950/950 [==============================] - 2s 2ms/step - loss: 3.4552 - acc: 0.3853 - val_loss: 9.0284 - val_acc: 0.2082\n",
      "Epoch 4/30\n",
      "950/950 [==============================] - 2s 2ms/step - loss: 1.3952 - acc: 0.6516 - val_loss: 3.8396 - val_acc: 0.2816\n",
      "Epoch 5/30\n",
      "950/950 [==============================] - 2s 2ms/step - loss: 0.3633 - acc: 0.8789 - val_loss: 2.1862 - val_acc: 0.4102\n",
      "Epoch 6/30\n",
      "950/950 [==============================] - 2s 2ms/step - loss: 0.0433 - acc: 0.9947 - val_loss: 1.8373 - val_acc: 0.4510\n",
      "Epoch 7/30\n",
      "950/950 [==============================] - 2s 2ms/step - loss: 0.0100 - acc: 1.0000 - val_loss: 1.7875 - val_acc: 0.4551\n",
      "Epoch 8/30\n",
      "950/950 [==============================] - 2s 2ms/step - loss: 0.0060 - acc: 1.0000 - val_loss: 1.7614 - val_acc: 0.4653\n",
      "Epoch 9/30\n",
      "950/950 [==============================] - 2s 2ms/step - loss: 0.0050 - acc: 1.0000 - val_loss: 1.7242 - val_acc: 0.4755\n",
      "Epoch 10/30\n",
      "950/950 [==============================] - 2s 2ms/step - loss: 0.0038 - acc: 1.0000 - val_loss: 1.6992 - val_acc: 0.4776\n",
      "Epoch 11/30\n",
      "950/950 [==============================] - 2s 2ms/step - loss: 0.0037 - acc: 1.0000 - val_loss: 1.6716 - val_acc: 0.4878\n",
      "Epoch 12/30\n",
      "950/950 [==============================] - 2s 2ms/step - loss: 0.0031 - acc: 1.0000 - val_loss: 1.6576 - val_acc: 0.4898\n",
      "Epoch 13/30\n",
      "950/950 [==============================] - 2s 2ms/step - loss: 0.0030 - acc: 1.0000 - val_loss: 1.6453 - val_acc: 0.4980\n",
      "Epoch 14/30\n",
      "950/950 [==============================] - 2s 2ms/step - loss: 0.0026 - acc: 1.0000 - val_loss: 1.6380 - val_acc: 0.4918\n",
      "Epoch 15/30\n",
      "950/950 [==============================] - 2s 2ms/step - loss: 0.0022 - acc: 1.0000 - val_loss: 1.6306 - val_acc: 0.4980\n",
      "Epoch 16/30\n",
      "950/950 [==============================] - 2s 2ms/step - loss: 0.0020 - acc: 1.0000 - val_loss: 1.6231 - val_acc: 0.5000\n",
      "Epoch 17/30\n",
      "950/950 [==============================] - 2s 2ms/step - loss: 0.0020 - acc: 1.0000 - val_loss: 1.6191 - val_acc: 0.5061\n",
      "Epoch 18/30\n",
      "950/950 [==============================] - 2s 2ms/step - loss: 0.0017 - acc: 1.0000 - val_loss: 1.6138 - val_acc: 0.5102\n",
      "Epoch 19/30\n",
      "950/950 [==============================] - 2s 2ms/step - loss: 0.0015 - acc: 1.0000 - val_loss: 1.6086 - val_acc: 0.5122\n",
      "Epoch 20/30\n",
      "950/950 [==============================] - 2s 2ms/step - loss: 0.0013 - acc: 1.0000 - val_loss: 1.6084 - val_acc: 0.5122\n",
      "Epoch 21/30\n",
      "950/950 [==============================] - 2s 2ms/step - loss: 0.0013 - acc: 1.0000 - val_loss: 1.6058 - val_acc: 0.5184\n",
      "Epoch 22/30\n",
      "950/950 [==============================] - 2s 2ms/step - loss: 0.0012 - acc: 1.0000 - val_loss: 1.6060 - val_acc: 0.5204\n",
      "Epoch 23/30\n",
      "950/950 [==============================] - 2s 2ms/step - loss: 0.0011 - acc: 1.0000 - val_loss: 1.6030 - val_acc: 0.5184\n",
      "Epoch 24/30\n",
      "950/950 [==============================] - 2s 2ms/step - loss: 0.0010 - acc: 1.0000 - val_loss: 1.6012 - val_acc: 0.5224\n",
      "Epoch 25/30\n",
      "950/950 [==============================] - 2s 2ms/step - loss: 9.4621e-04 - acc: 1.0000 - val_loss: 1.6022 - val_acc: 0.5245\n",
      "Epoch 26/30\n",
      "950/950 [==============================] - 2s 2ms/step - loss: 9.4559e-04 - acc: 1.0000 - val_loss: 1.6064 - val_acc: 0.5286\n",
      "Epoch 27/30\n",
      "950/950 [==============================] - 2s 2ms/step - loss: 7.8925e-04 - acc: 1.0000 - val_loss: 1.6023 - val_acc: 0.5306\n",
      "Epoch 28/30\n",
      "950/950 [==============================] - 2s 2ms/step - loss: 7.6070e-04 - acc: 1.0000 - val_loss: 1.6028 - val_acc: 0.5286\n",
      "Epoch 29/30\n",
      "950/950 [==============================] - 2s 2ms/step - loss: 7.3992e-04 - acc: 1.0000 - val_loss: 1.6037 - val_acc: 0.5286\n",
      "Epoch 30/30\n",
      "950/950 [==============================] - 2s 2ms/step - loss: 7.1514e-04 - acc: 1.0000 - val_loss: 1.6041 - val_acc: 0.5286\n"
     ]
    }
   ],
   "source": [
    "history = model.fit(X_train, y_train_hot, batch_size= 200, epochs=30, verbose=1,callbacks = [reduce_lr] , validation_data=(X_test, y_test_hot))"
   ]
  },
  {
   "cell_type": "code",
   "execution_count": 38,
   "metadata": {},
   "outputs": [],
   "source": [
    "model.save_weights('speech_emo_weights2.h5')"
   ]
  },
  {
   "cell_type": "code",
   "execution_count": 17,
   "metadata": {},
   "outputs": [
    {
     "data": {
      "image/png": "[encoded data removed]",
      "text/plain": [
       "<Figure size 432x288 with 1 Axes>"
      ]
     },
     "metadata": {
      "needs_background": "light"
     },
     "output_type": "display_data"
    },
    {
     "data": {
      "text/plain": [
       "<matplotlib.legend.Legend at 0x1a1e3113e48>"
      ]
     },
     "execution_count": 17,
     "metadata": {},
     "output_type": "execute_result"
    },
    {
     "data": {
      "image/png": "[encoded data removed]",
      "text/plain": [
       "<Figure size 432x288 with 1 Axes>"
      ]
     },
     "metadata": {
      "needs_background": "light"
     },
     "output_type": "display_data"
    }
   ],
   "source": [
    "plt.plot()\n",
    "plt.plot(history.history['acc'])\n",
    "plt.plot(history.history['val_acc'])\n",
    "plt.title('model accuracy')\n",
    "plt.ylabel('accuracy')\n",
    "plt.xlabel('epoch')\n",
    "plt.legend(['train', 'test'], loc='upper left')\n",
    "plt.show()\n",
    "# summarize history for loss\n",
    "plt.plot(history.history['loss'])\n",
    "plt.plot(history.history['val_loss'])\n",
    "plt.title('model loss')\n",
    "plt.ylabel('loss')\n",
    "plt.xlabel('epoch')\n",
    "plt.legend(['train', 'test'], loc='upper left')"
   ]
  },
  {
   "cell_type": "code",
   "execution_count": 18,
   "metadata": {
    "scrolled": false
   },
   "outputs": [
    {
     "name": "stdout",
     "output_type": "stream",
     "text": [
      "490/490 [==============================] - 1s 1ms/step\n"
     ]
    }
   ],
   "source": [
    "score = model.evaluate(X_test, y_test_hot, verbose=1)"
   ]
  },
  {
   "cell_type": "code",
   "execution_count": 19,
   "metadata": {},
   "outputs": [
    {
     "data": {
      "text/plain": [
       "[2.2852132826435323, 0.5306122450196014]"
      ]
     },
     "execution_count": 19,
     "metadata": {},
     "output_type": "execute_result"
    }
   ],
   "source": [
    "score"
   ]
  }
 ],
 "metadata": {
  "kernelspec": {
   "display_name": "Python 3",
   "language": "python",
   "name": "python3"
  },
  "language_info": {
   "codemirror_mode": {
    "name": "ipython",
    "version": 3
   },
   "file_extension": ".py",
   "mimetype": "text/x-python",
   "name": "python",
   "nbconvert_exporter": "python",
   "pygments_lexer": "ipython3",
   "version": "3.7.2"
  }
 },
 "nbformat": 4,
 "nbformat_minor": 2
}
